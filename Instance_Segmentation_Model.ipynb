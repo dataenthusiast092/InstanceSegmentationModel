{
  "nbformat": 4,
  "nbformat_minor": 0,
  "metadata": {
    "colab": {
      "provenance": [],
      "authorship_tag": "ABX9TyMVvX0soetK7wLdu/IxrDrt",
      "include_colab_link": true
    },
    "kernelspec": {
      "name": "python3",
      "display_name": "Python 3"
    },
    "language_info": {
      "name": "python"
    }
  },
  "cells": [
    {
      "cell_type": "markdown",
      "metadata": {
        "id": "view-in-github",
        "colab_type": "text"
      },
      "source": [
        "<a href=\"https://colab.research.google.com/github/dataenthusiast092/InstanceSegmentationModel/blob/main/Instance_Segmentation_Model.ipynb\" target=\"_parent\"><img src=\"https://colab.research.google.com/assets/colab-badge.svg\" alt=\"Open In Colab\"/></a>"
      ]
    },
    {
      "cell_type": "markdown",
      "source": [
        "# Instance Segmentation Model"
      ],
      "metadata": {
        "id": "axoJheteLwRD"
      }
    },
    {
      "cell_type": "markdown",
      "source": [
        "### Introduction to the Problem at hand"
      ],
      "metadata": {
        "id": "IYD8ywHsMgSv"
      }
    },
    {
      "cell_type": "markdown",
      "source": [
        "The problem involves training a deep learning model to perform instance segmentation on a video. Instance segmentation is a computer vision task that combines object detection and semantic segmentation. The goal is to identify and label each individual object instance within an image or video with a unique color. The requirement is to submit a video where each detected object instance is represented by a distinct color. A detailed document explaining the steps taken in the process is also necessary. While submitting code is optional, it's an option to showcase the implementation.\n",
        "\n"
      ],
      "metadata": {
        "id": "7mFSN5c5QR_4"
      }
    },
    {
      "cell_type": "markdown",
      "source": [
        "### What is the Key Concept behind the problem?"
      ],
      "metadata": {
        "id": "rZjLfbhKQZaG"
      }
    },
    {
      "cell_type": "markdown",
      "source": [
        "While Instance Segmentation is a technique that goes beyond object detection by not only identifying objects in an image but also segmenting them pixel by pixel and labeling each instance separately."
      ],
      "metadata": {
        "id": "NVfj7mtcQqWr"
      }
    },
    {
      "cell_type": "code",
      "source": [
        "# !pip install tensorflow\n",
        "# !pip install tensorflow-gpu\n",
        "# !pip install torch torchvision\n",
        "# !pip install opencv-python\n",
        "# !pip install matplotlib scikit-learn\n",
        "# !pip install kaggle"
      ],
      "metadata": {
        "id": "x5hTdbUKRKSG"
      },
      "execution_count": 1,
      "outputs": []
    },
    {
      "cell_type": "code",
      "source": [
        "import tensorflow as tf\n",
        "import torch\n",
        "import torchvision\n",
        "import cv2\n",
        "import matplotlib.pyplot as plt\n",
        "import sklearn\n",
        "from google.colab import files\n",
        "files.upload()\n",
        "import os\n",
        "import random\n",
        "import shutil\n",
        "import numpy as np"
      ],
      "metadata": {
        "colab": {
          "base_uri": "https://localhost:8080/",
          "height": 73
        },
        "id": "pc7_OQLKRsbI",
        "outputId": "b998cf1e-2895-4ca5-cbeb-c7ee7af6638c"
      },
      "execution_count": 5,
      "outputs": [
        {
          "output_type": "display_data",
          "data": {
            "text/plain": [
              "<IPython.core.display.HTML object>"
            ],
            "text/html": [
              "\n",
              "     <input type=\"file\" id=\"files-1dbe9dbc-0fb3-4f06-a7f5-c21f578e8859\" name=\"files[]\" multiple disabled\n",
              "        style=\"border:none\" />\n",
              "     <output id=\"result-1dbe9dbc-0fb3-4f06-a7f5-c21f578e8859\">\n",
              "      Upload widget is only available when the cell has been executed in the\n",
              "      current browser session. Please rerun this cell to enable.\n",
              "      </output>\n",
              "      <script>// Copyright 2017 Google LLC\n",
              "//\n",
              "// Licensed under the Apache License, Version 2.0 (the \"License\");\n",
              "// you may not use this file except in compliance with the License.\n",
              "// You may obtain a copy of the License at\n",
              "//\n",
              "//      http://www.apache.org/licenses/LICENSE-2.0\n",
              "//\n",
              "// Unless required by applicable law or agreed to in writing, software\n",
              "// distributed under the License is distributed on an \"AS IS\" BASIS,\n",
              "// WITHOUT WARRANTIES OR CONDITIONS OF ANY KIND, either express or implied.\n",
              "// See the License for the specific language governing permissions and\n",
              "// limitations under the License.\n",
              "\n",
              "/**\n",
              " * @fileoverview Helpers for google.colab Python module.\n",
              " */\n",
              "(function(scope) {\n",
              "function span(text, styleAttributes = {}) {\n",
              "  const element = document.createElement('span');\n",
              "  element.textContent = text;\n",
              "  for (const key of Object.keys(styleAttributes)) {\n",
              "    element.style[key] = styleAttributes[key];\n",
              "  }\n",
              "  return element;\n",
              "}\n",
              "\n",
              "// Max number of bytes which will be uploaded at a time.\n",
              "const MAX_PAYLOAD_SIZE = 100 * 1024;\n",
              "\n",
              "function _uploadFiles(inputId, outputId) {\n",
              "  const steps = uploadFilesStep(inputId, outputId);\n",
              "  const outputElement = document.getElementById(outputId);\n",
              "  // Cache steps on the outputElement to make it available for the next call\n",
              "  // to uploadFilesContinue from Python.\n",
              "  outputElement.steps = steps;\n",
              "\n",
              "  return _uploadFilesContinue(outputId);\n",
              "}\n",
              "\n",
              "// This is roughly an async generator (not supported in the browser yet),\n",
              "// where there are multiple asynchronous steps and the Python side is going\n",
              "// to poll for completion of each step.\n",
              "// This uses a Promise to block the python side on completion of each step,\n",
              "// then passes the result of the previous step as the input to the next step.\n",
              "function _uploadFilesContinue(outputId) {\n",
              "  const outputElement = document.getElementById(outputId);\n",
              "  const steps = outputElement.steps;\n",
              "\n",
              "  const next = steps.next(outputElement.lastPromiseValue);\n",
              "  return Promise.resolve(next.value.promise).then((value) => {\n",
              "    // Cache the last promise value to make it available to the next\n",
              "    // step of the generator.\n",
              "    outputElement.lastPromiseValue = value;\n",
              "    return next.value.response;\n",
              "  });\n",
              "}\n",
              "\n",
              "/**\n",
              " * Generator function which is called between each async step of the upload\n",
              " * process.\n",
              " * @param {string} inputId Element ID of the input file picker element.\n",
              " * @param {string} outputId Element ID of the output display.\n",
              " * @return {!Iterable<!Object>} Iterable of next steps.\n",
              " */\n",
              "function* uploadFilesStep(inputId, outputId) {\n",
              "  const inputElement = document.getElementById(inputId);\n",
              "  inputElement.disabled = false;\n",
              "\n",
              "  const outputElement = document.getElementById(outputId);\n",
              "  outputElement.innerHTML = '';\n",
              "\n",
              "  const pickedPromise = new Promise((resolve) => {\n",
              "    inputElement.addEventListener('change', (e) => {\n",
              "      resolve(e.target.files);\n",
              "    });\n",
              "  });\n",
              "\n",
              "  const cancel = document.createElement('button');\n",
              "  inputElement.parentElement.appendChild(cancel);\n",
              "  cancel.textContent = 'Cancel upload';\n",
              "  const cancelPromise = new Promise((resolve) => {\n",
              "    cancel.onclick = () => {\n",
              "      resolve(null);\n",
              "    };\n",
              "  });\n",
              "\n",
              "  // Wait for the user to pick the files.\n",
              "  const files = yield {\n",
              "    promise: Promise.race([pickedPromise, cancelPromise]),\n",
              "    response: {\n",
              "      action: 'starting',\n",
              "    }\n",
              "  };\n",
              "\n",
              "  cancel.remove();\n",
              "\n",
              "  // Disable the input element since further picks are not allowed.\n",
              "  inputElement.disabled = true;\n",
              "\n",
              "  if (!files) {\n",
              "    return {\n",
              "      response: {\n",
              "        action: 'complete',\n",
              "      }\n",
              "    };\n",
              "  }\n",
              "\n",
              "  for (const file of files) {\n",
              "    const li = document.createElement('li');\n",
              "    li.append(span(file.name, {fontWeight: 'bold'}));\n",
              "    li.append(span(\n",
              "        `(${file.type || 'n/a'}) - ${file.size} bytes, ` +\n",
              "        `last modified: ${\n",
              "            file.lastModifiedDate ? file.lastModifiedDate.toLocaleDateString() :\n",
              "                                    'n/a'} - `));\n",
              "    const percent = span('0% done');\n",
              "    li.appendChild(percent);\n",
              "\n",
              "    outputElement.appendChild(li);\n",
              "\n",
              "    const fileDataPromise = new Promise((resolve) => {\n",
              "      const reader = new FileReader();\n",
              "      reader.onload = (e) => {\n",
              "        resolve(e.target.result);\n",
              "      };\n",
              "      reader.readAsArrayBuffer(file);\n",
              "    });\n",
              "    // Wait for the data to be ready.\n",
              "    let fileData = yield {\n",
              "      promise: fileDataPromise,\n",
              "      response: {\n",
              "        action: 'continue',\n",
              "      }\n",
              "    };\n",
              "\n",
              "    // Use a chunked sending to avoid message size limits. See b/62115660.\n",
              "    let position = 0;\n",
              "    do {\n",
              "      const length = Math.min(fileData.byteLength - position, MAX_PAYLOAD_SIZE);\n",
              "      const chunk = new Uint8Array(fileData, position, length);\n",
              "      position += length;\n",
              "\n",
              "      const base64 = btoa(String.fromCharCode.apply(null, chunk));\n",
              "      yield {\n",
              "        response: {\n",
              "          action: 'append',\n",
              "          file: file.name,\n",
              "          data: base64,\n",
              "        },\n",
              "      };\n",
              "\n",
              "      let percentDone = fileData.byteLength === 0 ?\n",
              "          100 :\n",
              "          Math.round((position / fileData.byteLength) * 100);\n",
              "      percent.textContent = `${percentDone}% done`;\n",
              "\n",
              "    } while (position < fileData.byteLength);\n",
              "  }\n",
              "\n",
              "  // All done.\n",
              "  yield {\n",
              "    response: {\n",
              "      action: 'complete',\n",
              "    }\n",
              "  };\n",
              "}\n",
              "\n",
              "scope.google = scope.google || {};\n",
              "scope.google.colab = scope.google.colab || {};\n",
              "scope.google.colab._files = {\n",
              "  _uploadFiles,\n",
              "  _uploadFilesContinue,\n",
              "};\n",
              "})(self);\n",
              "</script> "
            ]
          },
          "metadata": {}
        },
        {
          "output_type": "stream",
          "name": "stdout",
          "text": [
            "Saving kaggle.json to kaggle.json\n"
          ]
        }
      ]
    },
    {
      "cell_type": "code",
      "source": [
        "!mkdir -p ~/.kaggle\n",
        "!mv kaggle.json ~/.kaggle/\n",
        "!chmod 600 ~/.kaggle/kaggle.json"
      ],
      "metadata": {
        "id": "v6bzTP7b6y6l"
      },
      "execution_count": 6,
      "outputs": []
    },
    {
      "cell_type": "code",
      "source": [
        "!kaggle competitions download -c data-science-bowl-2018\n",
        "!apt-get install unzip\n",
        "!unzip /content/data-science-bowl-2018.zip -d /content/data-science-bowl-2018"
      ],
      "metadata": {
        "colab": {
          "base_uri": "https://localhost:8080/"
        },
        "id": "OSCAV_iT7B7u",
        "outputId": "e918cabe-c3ca-4f76-8dfc-87475d13915b"
      },
      "execution_count": 7,
      "outputs": [
        {
          "output_type": "stream",
          "name": "stdout",
          "text": [
            "Downloading data-science-bowl-2018.zip to /content\n",
            "100% 357M/358M [00:04<00:00, 27.4MB/s]\n",
            "100% 358M/358M [00:04<00:00, 88.1MB/s]\n",
            "Reading package lists... Done\n",
            "Building dependency tree... Done\n",
            "Reading state information... Done\n",
            "unzip is already the newest version (6.0-26ubuntu3.1).\n",
            "0 upgraded, 0 newly installed, 0 to remove and 16 not upgraded.\n",
            "Archive:  /content/data-science-bowl-2018.zip\n",
            "  inflating: /content/data-science-bowl-2018/stage1_sample_submission.csv.zip  \n",
            "  inflating: /content/data-science-bowl-2018/stage1_solution.csv.zip  \n",
            "  inflating: /content/data-science-bowl-2018/stage1_test.zip  \n",
            "  inflating: /content/data-science-bowl-2018/stage1_train.zip  \n",
            "  inflating: /content/data-science-bowl-2018/stage1_train_labels.csv.zip  \n",
            "  inflating: /content/data-science-bowl-2018/stage2_sample_submission_final.csv.zip  \n",
            "  inflating: /content/data-science-bowl-2018/stage2_test_final.zip  \n"
          ]
        }
      ]
    },
    {
      "cell_type": "code",
      "source": [
        "# !ls -l /content/data-science-bowl-2018/stage1_train | grep \"^d\" | wc -l"
      ],
      "metadata": {
        "colab": {
          "base_uri": "https://localhost:8080/"
        },
        "id": "jwXSircKALPL",
        "outputId": "076aa8e0-8f52-4841-cb30-447a78a31177"
      },
      "execution_count": 25,
      "outputs": [
        {
          "output_type": "stream",
          "name": "stdout",
          "text": [
            "670\n"
          ]
        }
      ]
    },
    {
      "cell_type": "code",
      "source": [
        "# !rm -r /content/data-science-bowl-2018/stage1_train\n",
        "# !rm -r /content/data-science-bowl-2018/stage1_train_labels.csv\n",
        "# !unzip /content/data-science-bowl-2018/stage1_train.zip -d /content/data-science-bowl-2018/stage1_train\n",
        "# !unzip /content/data-science-bowl-2018/stage1_train_labels.csv.zip -d /content/data-science-bowl-2018/stage1_train_labels.csv\n",
        "!rm -r /content/data-science-bowl-2018/stage1_train_random_samples"
      ],
      "metadata": {
        "id": "LHY1UeW7DLOx"
      },
      "execution_count": 14,
      "outputs": []
    },
    {
      "cell_type": "code",
      "source": [
        "# !apt-get install tree\n",
        "# !tree /content/data-science-bowl-2018/stage1_train -L 2"
      ],
      "metadata": {
        "id": "Czzk5w_eVf4c"
      },
      "execution_count": null,
      "outputs": []
    },
    {
      "cell_type": "code",
      "source": [
        "# !pip install matplotlib opencv-python-headless\n"
      ],
      "metadata": {
        "colab": {
          "base_uri": "https://localhost:8080/"
        },
        "id": "dREi7L6Ph-AG",
        "outputId": "389ce4c5-a2f7-4855-dfc4-ea6932b6b746"
      },
      "execution_count": 17,
      "outputs": [
        {
          "output_type": "stream",
          "name": "stdout",
          "text": [
            "Requirement already satisfied: matplotlib in /usr/local/lib/python3.10/dist-packages (3.7.1)\n",
            "Requirement already satisfied: opencv-python-headless in /usr/local/lib/python3.10/dist-packages (4.8.0.76)\n",
            "Requirement already satisfied: contourpy>=1.0.1 in /usr/local/lib/python3.10/dist-packages (from matplotlib) (1.1.0)\n",
            "Requirement already satisfied: cycler>=0.10 in /usr/local/lib/python3.10/dist-packages (from matplotlib) (0.11.0)\n",
            "Requirement already satisfied: fonttools>=4.22.0 in /usr/local/lib/python3.10/dist-packages (from matplotlib) (4.42.1)\n",
            "Requirement already satisfied: kiwisolver>=1.0.1 in /usr/local/lib/python3.10/dist-packages (from matplotlib) (1.4.4)\n",
            "Requirement already satisfied: numpy>=1.20 in /usr/local/lib/python3.10/dist-packages (from matplotlib) (1.23.5)\n",
            "Requirement already satisfied: packaging>=20.0 in /usr/local/lib/python3.10/dist-packages (from matplotlib) (23.1)\n",
            "Requirement already satisfied: pillow>=6.2.0 in /usr/local/lib/python3.10/dist-packages (from matplotlib) (9.4.0)\n",
            "Requirement already satisfied: pyparsing>=2.3.1 in /usr/local/lib/python3.10/dist-packages (from matplotlib) (3.1.1)\n",
            "Requirement already satisfied: python-dateutil>=2.7 in /usr/local/lib/python3.10/dist-packages (from matplotlib) (2.8.2)\n",
            "Requirement already satisfied: six>=1.5 in /usr/local/lib/python3.10/dist-packages (from python-dateutil>=2.7->matplotlib) (1.16.0)\n"
          ]
        }
      ]
    },
    {
      "cell_type": "markdown",
      "source": [
        "## Data Preparation"
      ],
      "metadata": {
        "id": "sY9eRFMjL2yo"
      }
    },
    {
      "cell_type": "markdown",
      "source": [
        "**Introduction to the Data**\n",
        "\n",
        "This dataset contains a large number of segmented nuclei images. The images were acquired under a variety of conditions and vary in the cell type, magnification, and imaging modality (brightfield vs. fluorescence). The dataset is designed to challenge an algorithm's ability to generalize across these variations.\n",
        "\n",
        "Each image is represented by an associated ImageId. Files belonging to an image are contained in a folder with this ImageId. Within this folder are two subfolders:\n",
        "\n",
        "images contains the image file.\n",
        "masks contains the segmented masks of each nucleus. This folder is only included in the training set. Each mask contains one nucleus. Masks are not allowed to overlap (no pixel belongs to two masks).\n",
        "The second stage dataset will contain images from unseen experimental conditions. To deter hand labeling, it will also contain images that are ignored in scoring. The metric used to score this competition requires that your submissions are in run-length encoded format. Please see the evaluation page for details.\n",
        "\n",
        "As with any human-annotated dataset, you may find various forms of errors in the data. You may manually correct errors you find in the training set. The dataset will not be updated/re-released unless it is determined that there are a large number of systematic errors. The masks of the stage 1 test set will be released with the release of the stage 2 test set.\n",
        "\n",
        "1. /stage1_train/* - training set images (images and annotated masks)\n",
        "\n",
        "2. /stage1_test/* - stage 1 test set images (images only, you are predicting the masks)\n",
        "\n",
        "3. /stage2_test/* (released later) - stage 2 test set images (images only, you are predicting the masks)\n",
        "\n",
        "4. **stage1_sample_submission.csv** - a submission file containing the ImageIds for which you must predict during stage 1\n",
        "\n",
        "5. **stage2_sample_submission.csv (released later)** - a submission file containing the ImageIds for which you must predict during stage 2\n",
        "\n",
        "6. **stage1_train_labels.csv** - a file showing the run-length encoded representation of the training images. This is provided as a convenience and is redundant with the mask image files."
      ],
      "metadata": {
        "id": "1oq4XzdweI3X"
      }
    },
    {
      "cell_type": "markdown",
      "source": [
        "### **Step 1: Preparing the Dataset**\n",
        "\n",
        "**Gather a labelled dataset with images and instance masks:**\n",
        "\n",
        "1. Data Inspection\n",
        "2. Data Preprocessing\n",
        "3. Handling Missing Annotations\n",
        "4. Removing Outliers\n",
        "5. Balancing Classes\n",
        "6. Data Augmentation\n",
        "\n",
        "**Split the dataset into training and validation sets:**\n",
        "\n",
        "1. Data Splitting\n",
        "2. Data Format Loading"
      ],
      "metadata": {
        "id": "OIH6XkuBg6Pj"
      }
    },
    {
      "cell_type": "markdown",
      "source": [
        "#### Gathering a Labeled Dataset into Training & Validation Sets\n",
        "\n",
        "**1. Data Inspection**\n",
        "\n",
        "To-Do:\n",
        "\n",
        "1. Select a representative subset of images and masks from the dataset.\n",
        "\n",
        "2. Manually review these images and masks to identify major anomalies, such as misaligned annotations and potential data corruption.\n",
        "\n",
        "3. Note any instances where annotations do not match the corresponding images.\n",
        "\n",
        "4. Develop automated code to perform checks for missing images within the dataset.\n",
        "\n",
        "5. Implement automated checks to detect discrepancies in dimensions between images and their corresponding masks.\n",
        "\n",
        "6. Utilize code to generate summary statistics, including image sizes and class distributions, to gain insights into data quality.\n",
        "\n",
        "7. Analyze the insights gained from manual and automated inspection to understand the dataset's characteristics and potential issues.\n",
        "\n",
        "8. Combine the insights from both manual and automated inspection to make an initial assessment of the dataset's suitability for instance segmentation.\n",
        "\n",
        "9. Ensure that both manual scrutiny and automated validation processes are thorough, covering potential inconsistencies, errors, or anomalies.\n",
        "\n",
        "10. Based on the combined findings from manual and automated inspection, establish a robust foundation for subsequent data preprocessing and model training."
      ],
      "metadata": {
        "id": "3-RdWMHDMl8j"
      }
    },
    {
      "cell_type": "markdown",
      "source": [
        "**To-Do 1: Select a representative subset of images and masks from the dataset.**\n",
        "\n",
        "1. Random Sampling\n",
        "2. Sample Size\n",
        "3. Diverse Representation\n",
        "4. Stratification\n",
        "5. Visual Appeal\n",
        "6. Balancing\n",
        "7. Variability\n",
        "8. Coding Considerations"
      ],
      "metadata": {
        "id": "M3bY7YWrmqBM"
      }
    },
    {
      "cell_type": "code",
      "source": [
        "import os\n",
        "import random\n",
        "import matplotlib.pyplot as plt\n",
        "import cv2\n",
        "\n",
        "# Set the paths\n",
        "train_dataset_path = '/content/data-science-bowl-2018/stage1_train'\n",
        "output_sample_size = 10  # Number of samples to select\n",
        "\n",
        "# List all subdirectories (each representing an image)\n",
        "image_dirs = [d for d in os.listdir(train_dataset_path) if os.path.isdir(os.path.join(train_dataset_path, d))]\n",
        "\n",
        "# Randomly select a subset of samples\n",
        "selected_samples = random.sample(image_dirs, output_sample_size)\n",
        "\n",
        "# Set up the figure and subplot grid\n",
        "num_cols = len(selected_samples) + 1\n",
        "plt.figure(figsize=(15, 5))\n",
        "plt.subplots_adjust(wspace=0.4)\n",
        "\n",
        "# Iterate through the selected samples\n",
        "for idx, sample in enumerate(selected_samples):\n",
        "    # Paths to the image and mask folders\n",
        "    image_folder = os.path.join(train_dataset_path, sample, 'images')\n",
        "    mask_folder = os.path.join(train_dataset_path, sample, 'masks')\n",
        "\n",
        "    # Get the image file\n",
        "    image_filename = os.listdir(image_folder)[0]  # Assuming only one image per folder\n",
        "    image_path = os.path.join(image_folder, image_filename)\n",
        "\n",
        "    # Get a list of mask filenames\n",
        "    mask_filenames = os.listdir(mask_folder)\n",
        "\n",
        "    # Calculate the subplot index for the original image\n",
        "    orig_img_subplot_idx = idx * num_cols + 1\n",
        "\n",
        "    # Plot the original image\n",
        "    plt.subplot(2, num_cols, orig_img_subplot_idx)\n",
        "    image = cv2.imread(image_path)\n",
        "    image = cv2.cvtColor(image, cv2.COLOR_BGR2RGB)\n",
        "    plt.imshow(image)\n",
        "    plt.title(f'Sample {idx + 1}\\nOriginal Image')\n",
        "    plt.axis('off')\n",
        "\n",
        "    # Plot each mask\n",
        "    for mask_idx, mask_filename in enumerate(mask_filenames):\n",
        "        mask_path = os.path.join(mask_folder, mask_filename)\n",
        "        mask = cv2.imread(mask_path, cv2.IMREAD_GRAYSCALE)\n",
        "\n",
        "        # Calculate the subplot index for each mask\n",
        "        mask_subplot_idx = orig_img_subplot_idx + mask_idx + 1\n",
        "\n",
        "        plt.subplot(2, num_cols, mask_subplot_idx)\n",
        "        plt.imshow(mask, cmap='')\n",
        "        plt.title(f'Mask {mask_idx + 1}')\n",
        "        plt.axis('off')\n",
        "\n",
        "plt.tight_layout()\n",
        "plt.show()\n"
      ],
      "metadata": {
        "colab": {
          "base_uri": "https://localhost:8080/",
          "height": 660
        },
        "id": "vkHs9hjsf0ib",
        "outputId": "47211bb8-772b-4b09-ddc3-5325480e8dfd"
      },
      "execution_count": 35,
      "outputs": [
        {
          "output_type": "error",
          "ename": "ValueError",
          "evalue": "ignored",
          "traceback": [
            "\u001b[0;31m---------------------------------------------------------------------------\u001b[0m",
            "\u001b[0;31mValueError\u001b[0m                                Traceback (most recent call last)",
            "\u001b[0;32m<ipython-input-35-66434cb51c15>\u001b[0m in \u001b[0;36m<cell line: 22>\u001b[0;34m()\u001b[0m\n\u001b[1;32m     51\u001b[0m         \u001b[0mmask_subplot_idx\u001b[0m \u001b[0;34m=\u001b[0m \u001b[0morig_img_subplot_idx\u001b[0m \u001b[0;34m+\u001b[0m \u001b[0mmask_idx\u001b[0m \u001b[0;34m+\u001b[0m \u001b[0;36m1\u001b[0m\u001b[0;34m\u001b[0m\u001b[0;34m\u001b[0m\u001b[0m\n\u001b[1;32m     52\u001b[0m \u001b[0;34m\u001b[0m\u001b[0m\n\u001b[0;32m---> 53\u001b[0;31m         \u001b[0mplt\u001b[0m\u001b[0;34m.\u001b[0m\u001b[0msubplot\u001b[0m\u001b[0;34m(\u001b[0m\u001b[0;36m2\u001b[0m\u001b[0;34m,\u001b[0m \u001b[0mnum_cols\u001b[0m\u001b[0;34m,\u001b[0m \u001b[0mmask_subplot_idx\u001b[0m\u001b[0;34m)\u001b[0m\u001b[0;34m\u001b[0m\u001b[0;34m\u001b[0m\u001b[0m\n\u001b[0m\u001b[1;32m     54\u001b[0m         \u001b[0mplt\u001b[0m\u001b[0;34m.\u001b[0m\u001b[0mimshow\u001b[0m\u001b[0;34m(\u001b[0m\u001b[0mmask\u001b[0m\u001b[0;34m,\u001b[0m \u001b[0mcmap\u001b[0m\u001b[0;34m=\u001b[0m\u001b[0;34m'gray'\u001b[0m\u001b[0;34m)\u001b[0m\u001b[0;34m\u001b[0m\u001b[0;34m\u001b[0m\u001b[0m\n\u001b[1;32m     55\u001b[0m         \u001b[0mplt\u001b[0m\u001b[0;34m.\u001b[0m\u001b[0mtitle\u001b[0m\u001b[0;34m(\u001b[0m\u001b[0;34mf'Mask {mask_idx + 1}'\u001b[0m\u001b[0;34m)\u001b[0m\u001b[0;34m\u001b[0m\u001b[0;34m\u001b[0m\u001b[0m\n",
            "\u001b[0;32m/usr/local/lib/python3.10/dist-packages/matplotlib/pyplot.py\u001b[0m in \u001b[0;36msubplot\u001b[0;34m(*args, **kwargs)\u001b[0m\n\u001b[1;32m   1321\u001b[0m \u001b[0;34m\u001b[0m\u001b[0m\n\u001b[1;32m   1322\u001b[0m     \u001b[0;31m# First, search for an existing subplot with a matching spec.\u001b[0m\u001b[0;34m\u001b[0m\u001b[0;34m\u001b[0m\u001b[0m\n\u001b[0;32m-> 1323\u001b[0;31m     \u001b[0mkey\u001b[0m \u001b[0;34m=\u001b[0m \u001b[0mSubplotSpec\u001b[0m\u001b[0;34m.\u001b[0m\u001b[0m_from_subplot_args\u001b[0m\u001b[0;34m(\u001b[0m\u001b[0mfig\u001b[0m\u001b[0;34m,\u001b[0m \u001b[0margs\u001b[0m\u001b[0;34m)\u001b[0m\u001b[0;34m\u001b[0m\u001b[0;34m\u001b[0m\u001b[0m\n\u001b[0m\u001b[1;32m   1324\u001b[0m \u001b[0;34m\u001b[0m\u001b[0m\n\u001b[1;32m   1325\u001b[0m     \u001b[0;32mfor\u001b[0m \u001b[0max\u001b[0m \u001b[0;32min\u001b[0m \u001b[0mfig\u001b[0m\u001b[0;34m.\u001b[0m\u001b[0maxes\u001b[0m\u001b[0;34m:\u001b[0m\u001b[0;34m\u001b[0m\u001b[0;34m\u001b[0m\u001b[0m\n",
            "\u001b[0;32m/usr/local/lib/python3.10/dist-packages/matplotlib/gridspec.py\u001b[0m in \u001b[0;36m_from_subplot_args\u001b[0;34m(figure, args)\u001b[0m\n\u001b[1;32m    596\u001b[0m         \u001b[0;32melse\u001b[0m\u001b[0;34m:\u001b[0m\u001b[0;34m\u001b[0m\u001b[0;34m\u001b[0m\u001b[0m\n\u001b[1;32m    597\u001b[0m             \u001b[0;32mif\u001b[0m \u001b[0;32mnot\u001b[0m \u001b[0misinstance\u001b[0m\u001b[0;34m(\u001b[0m\u001b[0mnum\u001b[0m\u001b[0;34m,\u001b[0m \u001b[0mIntegral\u001b[0m\u001b[0;34m)\u001b[0m \u001b[0;32mor\u001b[0m \u001b[0mnum\u001b[0m \u001b[0;34m<\u001b[0m \u001b[0;36m1\u001b[0m \u001b[0;32mor\u001b[0m \u001b[0mnum\u001b[0m \u001b[0;34m>\u001b[0m \u001b[0mrows\u001b[0m\u001b[0;34m*\u001b[0m\u001b[0mcols\u001b[0m\u001b[0;34m:\u001b[0m\u001b[0;34m\u001b[0m\u001b[0;34m\u001b[0m\u001b[0m\n\u001b[0;32m--> 598\u001b[0;31m                 raise ValueError(\n\u001b[0m\u001b[1;32m    599\u001b[0m                     \u001b[0;34mf\"num must be an integer with 1 <= num <= {rows*cols}, \"\u001b[0m\u001b[0;34m\u001b[0m\u001b[0;34m\u001b[0m\u001b[0m\n\u001b[1;32m    600\u001b[0m                     \u001b[0;34mf\"not {num!r}\"\u001b[0m\u001b[0;34m\u001b[0m\u001b[0;34m\u001b[0m\u001b[0m\n",
            "\u001b[0;31mValueError\u001b[0m: num must be an integer with 1 <= num <= 22, not 23"
          ]
        },
        {
          "output_type": "display_data",
          "data": {
            "text/plain": [
              "<Figure size 1500x500 with 22 Axes>"
            ],
            "image/png": "[encoded data removed]"
          },
          "metadata": {}
        }
      ]
    },
    {
      "cell_type": "markdown",
      "source": [
        "**To-Do 2: Manually review these images and masks to identify major anomalies, such as misaligned annotations and potential data corruption.**"
      ],
      "metadata": {
        "id": "PUjZBtx5nY1D"
      }
    },
    {
      "cell_type": "code",
      "source": [],
      "metadata": {
        "id": "RjgCJY6gnbei"
      },
      "execution_count": 4,
      "outputs": []
    },
    {
      "cell_type": "markdown",
      "source": [
        "**To-Do 3: Note any instances where annotations do not match the corresponding images.**"
      ],
      "metadata": {
        "id": "NEVXvRjknciz"
      }
    },
    {
      "cell_type": "code",
      "source": [],
      "metadata": {
        "id": "mnSekaOrncvO"
      },
      "execution_count": 4,
      "outputs": []
    },
    {
      "cell_type": "markdown",
      "source": [
        "**To-Do 4: Develop automated code to perform checks for missing images within the dataset.**"
      ],
      "metadata": {
        "id": "PFnwzG_3nc8Z"
      }
    },
    {
      "cell_type": "code",
      "source": [],
      "metadata": {
        "id": "4u5SG4l7ndMf"
      },
      "execution_count": 4,
      "outputs": []
    },
    {
      "cell_type": "markdown",
      "source": [
        "**To-Do 5: Implement automated checks to detect discrepancies in dimensions between images and their corresponding masks.**"
      ],
      "metadata": {
        "id": "6Rh3ZBUhndYM"
      }
    },
    {
      "cell_type": "code",
      "source": [],
      "metadata": {
        "id": "MuK_ji3dndkz"
      },
      "execution_count": 4,
      "outputs": []
    },
    {
      "cell_type": "markdown",
      "source": [
        "**To-Do 6: Utilize code to generate summary statistics, including image sizes and class distributions, to gain insights into data quality.**"
      ],
      "metadata": {
        "id": "rd-2gqXvn525"
      }
    },
    {
      "cell_type": "code",
      "source": [],
      "metadata": {
        "id": "YYKQ7Txwn6Dp"
      },
      "execution_count": 4,
      "outputs": []
    },
    {
      "cell_type": "markdown",
      "source": [
        "**To-Do 7: Analyze the insights gained from manual and automated inspection to understand the dataset's characteristics and potential issues.**"
      ],
      "metadata": {
        "id": "g6LgS6qun6QD"
      }
    },
    {
      "cell_type": "code",
      "source": [],
      "metadata": {
        "id": "O5t75k-1n6a_"
      },
      "execution_count": 4,
      "outputs": []
    },
    {
      "cell_type": "markdown",
      "source": [
        "**To-Do 8: Combine the insights from both manual and automated inspection to make an initial assessment of the dataset's suitability for instance segmentation.**"
      ],
      "metadata": {
        "id": "evLXtfHDoDYs"
      }
    },
    {
      "cell_type": "code",
      "source": [],
      "metadata": {
        "id": "MLinDRORoDkt"
      },
      "execution_count": 4,
      "outputs": []
    },
    {
      "cell_type": "markdown",
      "source": [
        "**To-Do 9 : Ensure that both manual scrutiny and automated validation processes are thorough, covering potential inconsistencies, errors, or anomalies.**"
      ],
      "metadata": {
        "id": "SWGGpmEEoDxn"
      }
    },
    {
      "cell_type": "code",
      "source": [],
      "metadata": {
        "id": "xwiKPQg5oD_6"
      },
      "execution_count": 4,
      "outputs": []
    },
    {
      "cell_type": "markdown",
      "source": [
        "**To-Do 10: Based on the combined findings from manual and automated inspection, establish a robust foundation for subsequent data preprocessing and model training.**"
      ],
      "metadata": {
        "id": "8pnwnroRoLv3"
      }
    },
    {
      "cell_type": "code",
      "source": [],
      "metadata": {
        "id": "pH4yko0MoL9Q"
      },
      "execution_count": 4,
      "outputs": []
    },
    {
      "cell_type": "markdown",
      "source": [
        "**2. Data preprocessing**\n",
        "\n",
        "To-Do:\n",
        "\n",
        "1. Alignment of Images and masks\n",
        "2. Resizing Images and Masks\n",
        "3. Normalization of Pixel Values\n",
        "4. Handling Corrupted Images\n"
      ],
      "metadata": {
        "id": "hsLUULj6pqMf"
      }
    },
    {
      "cell_type": "markdown",
      "source": [
        "**To-Do 1: Alignment of Images and masks**"
      ],
      "metadata": {
        "id": "hAi3HHaNp-F3"
      }
    },
    {
      "cell_type": "code",
      "source": [],
      "metadata": {
        "id": "hogaIM21p-Rp"
      },
      "execution_count": 4,
      "outputs": []
    },
    {
      "cell_type": "markdown",
      "source": [
        "**To-Do 2: Resizing Images and Masks**"
      ],
      "metadata": {
        "id": "uY7PR4U-p-ef"
      }
    },
    {
      "cell_type": "code",
      "source": [],
      "metadata": {
        "id": "C7a5Ex_Rp-po"
      },
      "execution_count": 4,
      "outputs": []
    },
    {
      "cell_type": "markdown",
      "source": [
        "**To-Do 3: Normalization of Pixel Values**"
      ],
      "metadata": {
        "id": "u2MgOr2Op-3B"
      }
    },
    {
      "cell_type": "code",
      "source": [],
      "metadata": {
        "id": "o02sk7G3p_FA"
      },
      "execution_count": 4,
      "outputs": []
    },
    {
      "cell_type": "markdown",
      "source": [
        "**To-Do 4: Handling Corrupted Images**"
      ],
      "metadata": {
        "id": "ea7-SLX5p_T5"
      }
    },
    {
      "cell_type": "code",
      "source": [],
      "metadata": {
        "id": "hEDP-kNyp_gd"
      },
      "execution_count": 4,
      "outputs": []
    },
    {
      "cell_type": "markdown",
      "source": [
        "**3. Handling Missing Annotations**\n",
        "\n",
        "To-Do:\n",
        "\n",
        "1. Remove Images with Missing Annotations\n",
        "2. Generate Synthetic Masks\n",
        "  1. Interpolation\n",
        "  2. Segmentation Algorithms\n",
        "  3. Data Augmentation\n",
        "\n",
        "  **Factors to choose approaches:** Dataset Size, Model Robustness, Task Complexity, Domain Expertise, etc."
      ],
      "metadata": {
        "id": "mI3XuLLqqZjT"
      }
    },
    {
      "cell_type": "markdown",
      "source": [
        "**To-Do 1: Remove Images with Missing Annotations**"
      ],
      "metadata": {
        "id": "sg9QyfTuzW42"
      }
    },
    {
      "cell_type": "code",
      "source": [],
      "metadata": {
        "id": "SjYgn-RzzXFN"
      },
      "execution_count": 4,
      "outputs": []
    },
    {
      "cell_type": "markdown",
      "source": [
        "**To-Do 2: Generate Synthetic Masks**\n",
        "\n",
        "1. Interpolation\n",
        "2. Segmentation Algorithms\n",
        "3. Data Augmentation"
      ],
      "metadata": {
        "id": "0O0H_9HazXSr"
      }
    },
    {
      "cell_type": "code",
      "source": [],
      "metadata": {
        "id": "gXpDMDKuzXfg"
      },
      "execution_count": 4,
      "outputs": []
    },
    {
      "cell_type": "markdown",
      "source": [
        "**4. Removing Outliers**\n",
        "\n",
        "To-Do:\n",
        "\n",
        "1. Visual Inspection\n",
        "2. Anomaly Detection\n",
        "3. Quantitative Analysis\n",
        "4. Manual Verification\n",
        "5. Correction or Removal\n",
        "6. Documentation"
      ],
      "metadata": {
        "id": "AzKvciBVrI9L"
      }
    },
    {
      "cell_type": "markdown",
      "source": [
        "**To-Do 1: Visual Inspection**"
      ],
      "metadata": {
        "id": "F2zKINO60GN6"
      }
    },
    {
      "cell_type": "code",
      "source": [],
      "metadata": {
        "id": "O-9ztsyW0Fgg"
      },
      "execution_count": 4,
      "outputs": []
    },
    {
      "cell_type": "markdown",
      "source": [
        "**To-Do 2: Anomaly Detection**"
      ],
      "metadata": {
        "id": "tV66WhPX0HIq"
      }
    },
    {
      "cell_type": "code",
      "source": [],
      "metadata": {
        "id": "_JvpwxBy0HUB"
      },
      "execution_count": 4,
      "outputs": []
    },
    {
      "cell_type": "markdown",
      "source": [
        "**To-Do 3: Quantitative Analysis**"
      ],
      "metadata": {
        "id": "fmN8N6lf0Hg0"
      }
    },
    {
      "cell_type": "code",
      "source": [],
      "metadata": {
        "id": "PWHLA7fq0Hsa"
      },
      "execution_count": 4,
      "outputs": []
    },
    {
      "cell_type": "markdown",
      "source": [
        "**To-Do 4: Manual Verification**"
      ],
      "metadata": {
        "id": "eOW34Z6g0H5x"
      }
    },
    {
      "cell_type": "code",
      "source": [],
      "metadata": {
        "id": "nUbTxf_g0IFo"
      },
      "execution_count": 4,
      "outputs": []
    },
    {
      "cell_type": "markdown",
      "source": [
        "**To-Do 5: Correction or Removal**"
      ],
      "metadata": {
        "id": "vI4XssI80ayg"
      }
    },
    {
      "cell_type": "code",
      "source": [],
      "metadata": {
        "id": "wUtAe-ui0a_C"
      },
      "execution_count": 4,
      "outputs": []
    },
    {
      "cell_type": "markdown",
      "source": [
        "**To-Do 6: Documentation**"
      ],
      "metadata": {
        "id": "fZTkopO40bSf"
      }
    },
    {
      "cell_type": "code",
      "source": [],
      "metadata": {
        "id": "NAA3mPg_0be3"
      },
      "execution_count": 4,
      "outputs": []
    },
    {
      "cell_type": "markdown",
      "source": [
        "**5. Balancing Classes**\n",
        "\n",
        "To-Do:\n",
        "\n",
        "1. Data Augmentation\n",
        "2. Oversampling\n",
        "3. Undersampling\n",
        "4. Synthetic Data Generation\n",
        "5. Weighted loss Function\n",
        "6. Ensemble Approaches\n",
        "\n",
        "**Factors to choose approaches:** Balancing classes should be done while considering the impact on the overall dataset's quality and the performance of your instance segmentation model."
      ],
      "metadata": {
        "id": "s0BduF6NrhfG"
      }
    },
    {
      "cell_type": "markdown",
      "source": [
        "**To-Do 1: Data Augmentation**"
      ],
      "metadata": {
        "id": "FKDR_VQU0roD"
      }
    },
    {
      "cell_type": "code",
      "source": [],
      "metadata": {
        "id": "51C4LnDo0r1-"
      },
      "execution_count": 4,
      "outputs": []
    },
    {
      "cell_type": "markdown",
      "source": [
        "**To-Do 2: Oversampling**"
      ],
      "metadata": {
        "id": "yvZ2GmBB0sCB"
      }
    },
    {
      "cell_type": "code",
      "source": [],
      "metadata": {
        "id": "HM3iKvFA0sQE"
      },
      "execution_count": 4,
      "outputs": []
    },
    {
      "cell_type": "markdown",
      "source": [
        "**To-Do 3: Undersampling**"
      ],
      "metadata": {
        "id": "Ox6Cw6po0scr"
      }
    },
    {
      "cell_type": "code",
      "source": [],
      "metadata": {
        "id": "MXvZ8FmS0spW"
      },
      "execution_count": 4,
      "outputs": []
    },
    {
      "cell_type": "markdown",
      "source": [
        "**To-Do 4: Synthetic Data generation**"
      ],
      "metadata": {
        "id": "03B-IZM50s0p"
      }
    },
    {
      "cell_type": "code",
      "source": [],
      "metadata": {
        "id": "7Dk0y51K0s_m"
      },
      "execution_count": 4,
      "outputs": []
    },
    {
      "cell_type": "markdown",
      "source": [
        "**To-Do 5: Weighted Loss Function**"
      ],
      "metadata": {
        "id": "BXUUC1dD1BX1"
      }
    },
    {
      "cell_type": "code",
      "source": [],
      "metadata": {
        "id": "79D7ItGk1Bkb"
      },
      "execution_count": 4,
      "outputs": []
    },
    {
      "cell_type": "markdown",
      "source": [
        "**To-Do 6: Ensemble Approaches**"
      ],
      "metadata": {
        "id": "yENjXtMB1NBo"
      }
    },
    {
      "cell_type": "code",
      "source": [],
      "metadata": {
        "id": "umjFp1Ts1NSc"
      },
      "execution_count": 4,
      "outputs": []
    },
    {
      "cell_type": "markdown",
      "source": [
        "**6. Data Augmentation**\n",
        "\n",
        "To-Do:\n",
        "\n",
        "1. Images Augmentations\n",
        "2. Mask Augmentations\n",
        "\n"
      ],
      "metadata": {
        "id": "SXfrVP_rsOhs"
      }
    },
    {
      "cell_type": "markdown",
      "source": [
        "**To-Do 1: Images Augmentation**"
      ],
      "metadata": {
        "id": "D8H1NzE-1ZCZ"
      }
    },
    {
      "cell_type": "code",
      "source": [],
      "metadata": {
        "id": "zzCzEWbg1ZNL"
      },
      "execution_count": 4,
      "outputs": []
    },
    {
      "cell_type": "markdown",
      "source": [
        "**To-Do 2: Mask Augmentations**"
      ],
      "metadata": {
        "id": "IMC6IdLL1ZX3"
      }
    },
    {
      "cell_type": "code",
      "source": [],
      "metadata": {
        "id": "OS0GJNYO1Zjm"
      },
      "execution_count": 4,
      "outputs": []
    },
    {
      "cell_type": "markdown",
      "source": [
        "#### Splitting the Data into Training & Validation Sets\n",
        "\n",
        "**Data Splitting:**\n",
        "\n",
        "1. Shuffle the Dataset\n",
        "2. Calculate Split Ratios\n",
        "3. Allocate Data to Sets\n",
        "4. Use Stratified Sampling\n",
        "5. Data Usage\n",
        "6. Maintain Consistency\n",
        "\n",
        "**Data Formatting & Loading:**\n",
        "\n",
        "1. COCO Format\n",
        "2. Organizing the Data\n",
        "3. JSON Annotations\n",
        "4. Loading Data\n"
      ],
      "metadata": {
        "id": "xrfCVTaKMmO8"
      }
    },
    {
      "cell_type": "markdown",
      "source": [
        "**Data Splitting: Shuffle the Dataset**"
      ],
      "metadata": {
        "id": "Oe37d0mP3Rct"
      }
    },
    {
      "cell_type": "code",
      "source": [],
      "metadata": {
        "id": "I3kJXhPe3Roj"
      },
      "execution_count": 4,
      "outputs": []
    },
    {
      "cell_type": "markdown",
      "source": [
        "**Data Splitting: Calculate Split Ratios**"
      ],
      "metadata": {
        "id": "6yY5ZF6n3R5R"
      }
    },
    {
      "cell_type": "code",
      "source": [],
      "metadata": {
        "id": "3tTbX20I3SHc"
      },
      "execution_count": 4,
      "outputs": []
    },
    {
      "cell_type": "markdown",
      "source": [
        "**Data Splitting: Allocate Data to Sets**"
      ],
      "metadata": {
        "id": "Lhfcc78z3SUC"
      }
    },
    {
      "cell_type": "code",
      "source": [],
      "metadata": {
        "id": "q1nGZXwz3Sif"
      },
      "execution_count": 4,
      "outputs": []
    },
    {
      "cell_type": "markdown",
      "source": [
        "**Data Splitting: Use Stratified Sampling**"
      ],
      "metadata": {
        "id": "QmbVvieK3SwU"
      }
    },
    {
      "cell_type": "code",
      "source": [],
      "metadata": {
        "id": "BHaK0efh3S-h"
      },
      "execution_count": 4,
      "outputs": []
    },
    {
      "cell_type": "markdown",
      "source": [
        "**Data Splitting: Data Usage**"
      ],
      "metadata": {
        "id": "kyZi4dF63TPt"
      }
    },
    {
      "cell_type": "code",
      "source": [],
      "metadata": {
        "id": "gn1--Ig23TcN"
      },
      "execution_count": 4,
      "outputs": []
    },
    {
      "cell_type": "markdown",
      "source": [
        "**Data Splitting: Maintain Consistency**"
      ],
      "metadata": {
        "id": "27pMML4M3TqU"
      }
    },
    {
      "cell_type": "code",
      "source": [],
      "metadata": {
        "id": "CCPSbNYQ3T4x"
      },
      "execution_count": 4,
      "outputs": []
    },
    {
      "cell_type": "markdown",
      "source": [
        "**Data Formatting & Loading: COCO Format**"
      ],
      "metadata": {
        "id": "eWyiLL3_3Vwq"
      }
    },
    {
      "cell_type": "code",
      "source": [],
      "metadata": {
        "id": "FnVuUiil3V-x"
      },
      "execution_count": 4,
      "outputs": []
    },
    {
      "cell_type": "markdown",
      "source": [
        "**Data Formatting & Loading: Organizing the Data**"
      ],
      "metadata": {
        "id": "DBJ8k_JY3WOC"
      }
    },
    {
      "cell_type": "code",
      "source": [],
      "metadata": {
        "id": "x09c5gCB3Wdx"
      },
      "execution_count": 4,
      "outputs": []
    },
    {
      "cell_type": "markdown",
      "source": [
        "**Data Formatting & loading: JSON Annotations**"
      ],
      "metadata": {
        "id": "qaj1GQbu3WuH"
      }
    },
    {
      "cell_type": "code",
      "source": [],
      "metadata": {
        "id": "kvO1DFnZ3W6j"
      },
      "execution_count": 4,
      "outputs": []
    },
    {
      "cell_type": "markdown",
      "source": [
        "**Data Formatting & Loading: Finally Loading Data**"
      ],
      "metadata": {
        "id": "2_tv8C6I3XJU"
      }
    },
    {
      "cell_type": "code",
      "source": [],
      "metadata": {
        "id": "2TX-M9W83XV5"
      },
      "execution_count": 4,
      "outputs": []
    },
    {
      "cell_type": "markdown",
      "source": [
        "### Step 2: Choosing a Framework and Library"
      ],
      "metadata": {
        "id": "Pk_VcYUSL6pB"
      }
    },
    {
      "cell_type": "markdown",
      "source": [
        "#### Framework: Use Tensorflow & Pytorch"
      ],
      "metadata": {
        "id": "UiqUMrpYM114"
      }
    },
    {
      "cell_type": "markdown",
      "source": [
        "#### Libraries: Utilize Tensorflow Object Detection API or Detectron2 for PyTorch"
      ],
      "metadata": {
        "id": "o6DIkZrTNKwB"
      }
    },
    {
      "cell_type": "markdown",
      "source": [
        "### Step 3: Select a Model Architecture"
      ],
      "metadata": {
        "id": "uTX1VeLZMC8P"
      }
    },
    {
      "cell_type": "markdown",
      "source": [
        "#### Choose from Architectures like Mask R-CNN, FCN or DeepLab"
      ],
      "metadata": {
        "id": "OSafYD07NZxU"
      }
    },
    {
      "cell_type": "markdown",
      "source": [
        "#### Pretrained Model: Use COCO pretrained models for a head start"
      ],
      "metadata": {
        "id": "5obeS7wLNZ6t"
      }
    },
    {
      "cell_type": "markdown",
      "source": [
        "### Step 4: Model Training"
      ],
      "metadata": {
        "id": "3OYZMDDyMIP2"
      }
    },
    {
      "cell_type": "markdown",
      "source": [
        "#### Fine-tune the chosen Model on your Dataset."
      ],
      "metadata": {
        "id": "1usOieZENw6A"
      }
    },
    {
      "cell_type": "markdown",
      "source": [
        "#### Adjust Hyperparameters, Learning Rate & Optimizer"
      ],
      "metadata": {
        "id": "-zzMLuACNxCk"
      }
    },
    {
      "cell_type": "markdown",
      "source": [
        "#### Monitor Loss, Accuracy and Other Metrics during Training"
      ],
      "metadata": {
        "id": "UFRw9gftOJ1M"
      }
    },
    {
      "cell_type": "markdown",
      "source": [
        "### Step 5: Evaluation"
      ],
      "metadata": {
        "id": "UoCvW0uGMKo9"
      }
    },
    {
      "cell_type": "markdown",
      "source": [
        "#### Use a mean - Average Precision (mAP) to measure instance segmentation performance\n"
      ],
      "metadata": {
        "id": "Wh9x91raObgg"
      }
    },
    {
      "cell_type": "markdown",
      "source": [
        "#### Calculate Frame per second (FPS) to assess Inference Speed"
      ],
      "metadata": {
        "id": "xBUL-95yOb0N"
      }
    },
    {
      "cell_type": "markdown",
      "source": [
        "### Step 6: Hardware Configuration for Inference"
      ],
      "metadata": {
        "id": "3x2dsd2-MM8a"
      }
    },
    {
      "cell_type": "markdown",
      "source": [
        "#### Specify the Hardware CPU / GPU used for Inferencing"
      ],
      "metadata": {
        "id": "WwrhbGhLO29w"
      }
    },
    {
      "cell_type": "markdown",
      "source": [
        "#### Note the Memory & Processing Power"
      ],
      "metadata": {
        "id": "84WyFwTrO3G1"
      }
    }
  ]
}